{
 "cells": [
  {
   "cell_type": "code",
   "execution_count": 1,
   "metadata": {},
   "outputs": [
    {
     "data": {
      "text/plain": [
       "['mozzarella', 'cinderella', 'salmonella']"
      ]
     },
     "execution_count": 1,
     "metadata": {},
     "output_type": "execute_result"
    }
   ],
   "source": [
    "# 7.4 Make a list called things with these three strings as elements:\n",
    "# \"mozzarella\", \"cinderella\", \"salmonella\".\n",
    "\n",
    "things = list([\"mozzarella\", \"cinderella\", \"salmonella\"])\n",
    "things"
   ]
  },
  {
   "cell_type": "code",
   "execution_count": 3,
   "metadata": {},
   "outputs": [
    {
     "name": "stdout",
     "output_type": "stream",
     "text": [
      "['mozarella', 'Cinderella', 'salmonella']\n"
     ]
    }
   ],
   "source": [
    "# 7.5 Capitalize the element in things that refers to a person and then print the list.\n",
    "#  Did it change the element in the list?\n",
    "\n",
    "\n",
    "things = [\"mozarella\", \"cinderella\", \"salmonella\"]\n",
    "\n",
    "# Repeat each element in the list\n",
    "for i in range(len(things)):\n",
    "    # Check if element is \"cinderella\"\n",
    "    if things[i] == \"cinderella\":\n",
    "        # Capitalize the  first letter of the element\n",
    "        things[i] = things[i].capitalize()\n",
    "\n",
    "# Print the modified list\n",
    "print(things)\n",
    "\n"
   ]
  },
  {
   "cell_type": "code",
   "execution_count": 4,
   "metadata": {},
   "outputs": [
    {
     "name": "stdout",
     "output_type": "stream",
     "text": [
      "['MOZARELLA', 'cinderella', 'salmonella']\n"
     ]
    }
   ],
   "source": [
    "# 7.6 Make the cheesy element of things all uppercase and then print the list.\n",
    "\n",
    "things = [\"mozarella\", \"cinderella\", \"salmonella\"]\n",
    "\n",
    "# Repeat over each element in the list\n",
    "for i in range(len(things)):\n",
    "    # Check if the element contains \"mozarella\"\n",
    "    if \"mozarella\" in things[i]:\n",
    "        # Convert the element to all uppercase\n",
    "        things[i] = things[i].upper()\n",
    "\n",
    "# Print the modified list\n",
    "print(things)"
   ]
  },
  {
   "cell_type": "code",
   "execution_count": 7,
   "metadata": {},
   "outputs": [
    {
     "name": "stdout",
     "output_type": "stream",
     "text": [
      "['mozarella', 'cinderella']\n"
     ]
    }
   ],
   "source": [
    "# 7.7 Delete the disease element from things, collect your Nobel Prize, and print the list.\n",
    "\n",
    "things = [\"mozarella\", \"cinderella\", \"salmonella\"]\n",
    "\n",
    "# Repeat over each element in the list\n",
    "for i in range(len(things)):\n",
    "    # Check if the element contains \"salmonella\"\n",
    "    if things[i] == \"salmonella\":\n",
    "        # Remove the element \"salmonella\"\n",
    "        del things[i]\n",
    "        # Exit the loop\n",
    "        break\n",
    "\n",
    "# Print the modified list\n",
    "print(things)"
   ]
  },
  {
   "cell_type": "code",
   "execution_count": 11,
   "metadata": {},
   "outputs": [
    {
     "name": "stdout",
     "output_type": "stream",
     "text": [
      "['Harry', 'Ron', 'Hermione']\n"
     ]
    }
   ],
   "source": [
    "# 9.1 Define a function called good() that returns the following list: ['Harry', 'Ron', 'Hermione'].\n",
    "\n",
    "def good():\n",
    "    return ['Harry', 'Ron', 'Hermione']\n",
    "\n",
    "my_list = good()\n",
    "print(my_list)"
   ]
  },
  {
   "cell_type": "code",
   "execution_count": 13,
   "metadata": {},
   "outputs": [
    {
     "name": "stdout",
     "output_type": "stream",
     "text": [
      "5\n"
     ]
    }
   ],
   "source": [
    "# 9.2 Define a generator function called get_odds() that returns the odd numbers from range(10).\n",
    "#  Use a for loop to find and print the third value returned.\n",
    "\n",
    "def get_odds():\n",
    "    for num in range(1, 10, 2):\n",
    "        yield num\n",
    "\n",
    "# Create a generator object using get_odds()\n",
    "my_generator = get_odds()\n",
    "\n",
    "for i in range(3):\n",
    "    # Get the next odd  number from the generator\n",
    "    odd_num = next(my_generator)\n",
    "\n",
    "# Print the third odd number\n",
    "print(odd_num)"
   ]
  }
 ],
 "metadata": {
  "kernelspec": {
   "display_name": "base",
   "language": "python",
   "name": "python3"
  },
  "language_info": {
   "codemirror_mode": {
    "name": "ipython",
    "version": 3
   },
   "file_extension": ".py",
   "mimetype": "text/x-python",
   "name": "python",
   "nbconvert_exporter": "python",
   "pygments_lexer": "ipython3",
   "version": "3.10.9"
  },
  "orig_nbformat": 4
 },
 "nbformat": 4,
 "nbformat_minor": 2
}
